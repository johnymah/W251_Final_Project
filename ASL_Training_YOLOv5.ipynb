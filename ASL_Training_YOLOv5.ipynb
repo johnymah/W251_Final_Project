{
 "cells": [
  {
   "cell_type": "markdown",
   "metadata": {},
   "source": [
    "# American Sign Language"
   ]
  },
  {
   "cell_type": "code",
   "execution_count": null,
   "metadata": {
    "colab": {
     "base_uri": "https://localhost:8080/"
    },
    "id": "NGf8tDbwaYpS",
    "outputId": "ca7cd11a-df57-47f9-ea7e-7d6e00f7aab4"
   },
   "outputs": [],
   "source": [
    "from google.colab import drive\n",
    "drive.mount('/content/drive')"
   ]
  },
  {
   "cell_type": "code",
   "execution_count": null,
   "metadata": {
    "colab": {
     "base_uri": "https://localhost:8080/"
    },
    "id": "_JerpkbMbCAm",
    "outputId": "8ca863f8-1bc0-4fbe-f1e2-c20017943db9"
   },
   "outputs": [],
   "source": [
    "# Install Yolov5\n",
    "!git clone https://github.com/ultralytics/yolov5\n",
    "%cd ./yolov5\n",
    "!pip install -r requirements.txt"
   ]
  },
  {
   "cell_type": "code",
   "execution_count": null,
   "metadata": {
    "id": "glvwqucmbN6W"
   },
   "outputs": [],
   "source": [
    "from IPython.display import Image, display\n",
    "import torch\n",
    "import glob\n",
    "\n",
    "# Fix a seed for PyTorch\n",
    "torch.manual_seed(4200);\n",
    "\n",
    "## ===========================\n",
    "##   GPU\n",
    "## ===========================\n",
    "\n",
    "gpu = True\n",
    "\n",
    "if gpu == True:\n",
    "    device = torch.device('cuda')\n",
    "else:\n",
    "    device = torch.device('cpu')"
   ]
  },
  {
   "cell_type": "markdown",
   "metadata": {
    "id": "fsLsUPeyYXkz"
   },
   "source": [
    "## Grab the Dataset from RoboFlow"
   ]
  },
  {
   "cell_type": "code",
   "execution_count": null,
   "metadata": {
    "colab": {
     "base_uri": "https://localhost:8080/"
    },
    "id": "Xu4c5XEEbHNv",
    "outputId": "2173ea49-0a14-4c2c-9cd0-eb2ad16390b8"
   },
   "outputs": [],
   "source": [
    "%cd ../\n",
    "!curl -L 'https://public.roboflow.com/ds/..key=..' > roboflow.zip; unzip roboflow.zip; rm roboflow.zip"
   ]
  },
  {
   "cell_type": "markdown",
   "metadata": {
    "id": "4zYZUa5LYarp"
   },
   "source": [
    "## Train The Model using yolov5"
   ]
  },
  {
   "cell_type": "code",
   "execution_count": null,
   "metadata": {
    "colab": {
     "base_uri": "https://localhost:8080/"
    },
    "id": "IdHwm4TWcVRx",
    "outputId": "b8213847-f21b-4866-8e81-93f89702066d"
   },
   "outputs": [],
   "source": [
    "!python /content/yolov5/train.py --img 448 --batch 64 --epochs 500 --data /content/data.yaml --weights yolov5s.pt --workers 8"
   ]
  },
  {
   "cell_type": "markdown",
   "metadata": {
    "id": "PXaG6DCYYegK"
   },
   "source": [
    "## Validate the Model"
   ]
  },
  {
   "cell_type": "code",
   "execution_count": null,
   "metadata": {
    "colab": {
     "base_uri": "https://localhost:8080/"
    },
    "id": "wPGxGKFeYgKI",
    "outputId": "9f86c8b4-9015-46e8-fba3-1ae98165cb66"
   },
   "outputs": [],
   "source": [
    "!python /content/yolov5/val.py --weights /content/yolov5/runs/train/exp/weights/best.pt --data /content/data.yaml --img 448"
   ]
  },
  {
   "cell_type": "code",
   "execution_count": null,
   "metadata": {
    "colab": {
     "base_uri": "https://localhost:8080/",
     "height": 1000
    },
    "id": "29u7r7HnYgUS",
    "outputId": "2989b895-b6d0-4b54-e662-be0db1621888"
   },
   "outputs": [],
   "source": [
    "for imageName in glob.glob('/content/yolov5/runs/val/exp/*.jpg'):\n",
    "    display(Image(filename=imageName, width=1000, height=1000))\n",
    "    print('\\n')"
   ]
  },
  {
   "cell_type": "markdown",
   "metadata": {
    "id": "R3tfABlHYgjQ"
   },
   "source": [
    "## **4.** Test"
   ]
  },
  {
   "cell_type": "code",
   "execution_count": null,
   "metadata": {
    "colab": {
     "base_uri": "https://localhost:8080/"
    },
    "id": "8iUqHLq6YrhW",
    "outputId": "4b0955be-c085-42a6-b87a-bcf888fcaa45"
   },
   "outputs": [],
   "source": [
    "!python /content/yolov5/detect.py --weights /content/yolov5/runs/train/exp/weights/best.pt --img 448 --conf 0.5 --source /content/test/images --line-thickness 3"
   ]
  },
  {
   "cell_type": "code",
   "execution_count": null,
   "metadata": {
    "colab": {
     "base_uri": "https://localhost:8080/",
     "height": 1000
    },
    "id": "LjoUakCJYrjb",
    "outputId": "0fd1486e-f531-421f-d878-1066237d973a"
   },
   "outputs": [],
   "source": [
    "count = 0\n",
    "max_display = 10\n",
    "\n",
    "for imageName in glob.glob('/content/yolov5/runs/detect/exp/*.jpg'):\n",
    "    count += 1\n",
    "    if count == max_display:\n",
    "        break;\n",
    "    \n",
    "    display(Image(filename=imageName, width=300, height=300))\n",
    "    print(\"\\n\")"
   ]
  }
 ],
 "metadata": {
  "accelerator": "GPU",
  "colab": {
   "collapsed_sections": [
    "9LK6qpJ1YTMl",
    "fsLsUPeyYXkz"
   ],
   "name": "----------.ipynb",
   "provenance": []
  },
  "gpuClass": "standard",
  "kernelspec": {
   "display_name": "Python 3",
   "language": "python",
   "name": "python3"
  },
  "language_info": {
   "codemirror_mode": {
    "name": "ipython",
    "version": 3
   },
   "file_extension": ".py",
   "mimetype": "text/x-python",
   "name": "python",
   "nbconvert_exporter": "python",
   "pygments_lexer": "ipython3",
   "version": "3.7.0"
  },
  "vscode": {
   "interpreter": {
    "hash": "9805bccb659ffcb6952b8b29440036fac091f8170d71a5a402ad9a8f2988209f"
   }
  }
 },
 "nbformat": 4,
 "nbformat_minor": 1
}
